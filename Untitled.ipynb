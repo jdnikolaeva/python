{
 "cells": [
  {
   "cell_type": "code",
   "execution_count": 1,
   "metadata": {},
   "outputs": [
    {
     "name": "stdout",
     "output_type": "stream",
     "text": [
      "Введите дату вашего рождения:5\n",
      "Введите ваше имя:Юлия\n"
     ]
    }
   ],
   "source": [
    "x=5\n",
    "str=winter\n",
    "ch=int(input(\"Введите дату вашего рождения:\"))\n",
    "name=input(\"Введите ваше имя:\")"
   ]
  },
  {
   "cell_type": "code",
   "execution_count": 5,
   "metadata": {},
   "outputs": [
    {
     "name": "stdout",
     "output_type": "stream",
     "text": [
      "Введите секунды:2568\n",
      "0 : 42 : 48\n"
     ]
    }
   ],
   "source": [
    "sek=int(input('Введите секунды:'))\n",
    "h=int(sek//3600)\n",
    "min=int((sek-(h*3600))/60)\n",
    "sek=int(sek-(h*3600+min*60))\n",
    "print(h,\":\",min,\":\",sek)\n"
   ]
  },
  {
   "cell_type": "code",
   "execution_count": 8,
   "metadata": {},
   "outputs": [
    {
     "name": "stdout",
     "output_type": "stream",
     "text": [
      "Введите число:5\n",
      "5\n",
      "55\n",
      "555\n",
      "615\n"
     ]
    }
   ],
   "source": [
    "n=int(input(\"Введите число:\"))\n",
    "print(n)\n",
    "print(n*10+n)\n",
    "print(n*100+n*10+n)\n",
    "print(n+(n*10+n)+(n*100+n*10+n))\n"
   ]
  },
  {
   "cell_type": "code",
   "execution_count": null,
   "metadata": {},
   "outputs": [],
   "source": [
    "n=int((input(\"Введите число:\")))\n",
    "m=n%10\n",
    "while(n%10!= 0):\n",
    "    if (m>(n%10):\n",
    "        m=n%10\n",
    "print(m)"
   ]
  },
  {
   "cell_type": "code",
   "execution_count": 8,
   "metadata": {},
   "outputs": [
    {
     "name": "stdout",
     "output_type": "stream",
     "text": [
      "Значения выручки:100\n",
      "Bздержкb фирмы:120\n",
      "Убыток\n",
      "Введитекол-во человек:2\n",
      "-0.1\n"
     ]
    }
   ],
   "source": [
    "v=int(input('Значения выручки:'))\n",
    "b=int(input('Bздержкb фирмы:' ))\n",
    "if (v>b):\n",
    "    print ('Прибыль')\n",
    "    res=(v-b)/v\n",
    "    print(\"\", res)\n",
    "else:\n",
    "    res=(v-b)/v\n",
    "    print('Убыток')\n",
    "    \n",
    "ch=int(input('Введитекол-во человек:'))\n",
    "print(res/ch)\n",
    "\n"
   ]
  },
  {
   "cell_type": "code",
   "execution_count": 5,
   "metadata": {},
   "outputs": [
    {
     "name": "stdout",
     "output_type": "stream",
     "text": [
      "Введите a2\n",
      "Введите b3\n",
      "6\n"
     ]
    }
   ],
   "source": [
    "a=int(input('Введите a:'))\n",
    "b=int(input('Введите b:'))\n",
    "i=1\n",
    "while (a<=b):\n",
    "    a=a*0.1+a\n",
    "    i=i+1\n",
    "print(i)    "
   ]
  },
  {
   "cell_type": "code",
   "execution_count": null,
   "metadata": {},
   "outputs": [],
   "source": []
  }
 ],
 "metadata": {
  "kernelspec": {
   "display_name": "Python 3",
   "language": "python",
   "name": "python3"
  },
  "language_info": {
   "codemirror_mode": {
    "name": "ipython",
    "version": 3
   },
   "file_extension": ".py",
   "mimetype": "text/x-python",
   "name": "python",
   "nbconvert_exporter": "python",
   "pygments_lexer": "ipython3",
   "version": "3.7.4"
  }
 },
 "nbformat": 4,
 "nbformat_minor": 2
}
